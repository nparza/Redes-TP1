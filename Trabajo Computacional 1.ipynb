{
 "cells": [
  {
   "cell_type": "markdown",
   "metadata": {},
   "source": [
    "# Ejercicio 1"
   ]
  },
  {
   "cell_type": "code",
   "execution_count": 3,
   "metadata": {
    "collapsed": true
   },
   "outputs": [],
   "source": [
    "import numpy as np\n",
    "import networkx as nx\n",
    "from matplotlib import pyplot as plt\n",
    "import pandas as pd\n",
    "from func import *"
   ]
  },
  {
   "cell_type": "markdown",
   "metadata": {},
   "source": [
    "Importo los datos y creo los grafos:"
   ]
  },
  {
   "cell_type": "code",
   "execution_count": 4,
   "metadata": {
    "collapsed": true
   },
   "outputs": [],
   "source": [
    "Y2H=ldata('TC01_data/yeast_Y2H.txt')\n",
    "LIT=ldata('TC01_data/yeast_LIT.txt')\n",
    "APMS=ldata('TC01_data/yeast_AP-MS.txt')\n",
    "G_Y2H=nx.Graph(); G_LIT=nx.Graph(); G_APMS=nx.Graph();\n",
    "G_Y2H.add_edges_from(Y2H); G_LIT.add_edges_from(LIT); G_APMS.add_edges_from(APMS); "
   ]
  },
  {
   "cell_type": "code",
   "execution_count": 7,
   "metadata": {},
   "outputs": [
    {
     "data": {
      "image/png": "[encoded data removed]",
      "text/plain": [
       "<matplotlib.figure.Figure at 0x151b7aac18>"
      ]
     },
     "metadata": {},
     "output_type": "display_data"
    }
   ],
   "source": [
    "f, (ax1,ax2,ax3) = plt.subplots(1,3)\n",
    "\n",
    "plt.sca(ax1)\n",
    "nx.draw(G_Y2H, node_size=10)\n",
    "ax1.set_title('Y2H')\n",
    "\n",
    "plt.sca(ax2)\n",
    "nx.draw(G_LIT, node_size=10)\n",
    "ax2.set_title('LIT')\n",
    "\n",
    "plt.sca(ax3)\n",
    "nx.draw(G_APMS, node_size=10)\n",
    "ax3.set_title('APMS')\n",
    "\n",
    "f=plt.figure(1)\n",
    "plt.show()"
   ]
  },
  {
   "cell_type": "code",
   "execution_count": 13,
   "metadata": {
    "collapsed": true
   },
   "outputs": [],
   "source": [
    "#%% Calculo valores de la tabla\n",
    "\n",
    "redes=[G_Y2H,G_LIT,G_APMS]\n",
    "\n",
    "nodes=[]; edges=[]; kmedio=[]; kmax=[]; kmin=[]; \n",
    "clust1=[]; clust2=[]; densidad=[]; diam=[];\n",
    "\n",
    "pos=0\n",
    "for red in redes:\n",
    "    nodes.append(red.number_of_nodes())\n",
    "    edges.append(red.number_of_edges())\n",
    "    k=degrees2list(red)\n",
    "    kmedio.append(np.mean(k))\n",
    "    kmax.append(max(k))\n",
    "    kmin.append(min(k))\n",
    "    densidad.append(edges[pos]/(nodes[pos]*(nodes[pos]-1)/2))\n",
    "    compgigante=max(nx.connected_component_subgraphs(red),key=len)\n",
    "    diam.append(nx.diameter(compgigante))\n",
    "    clust1.append(nx.average_clustering(red))\n",
    "    clust2.append(nx.transitivity(red))\n",
    "    pos+=1\n",
    "    \n",
    "esdirigida=[False]*3 #Interacción entre proteínas: no dirigido"
   ]
  },
  {
   "cell_type": "code",
   "execution_count": 17,
   "metadata": {
    "scrolled": true
   },
   "outputs": [
    {
     "data": {
      "text/html": [
       "<div>\n",
       "<style>\n",
       "    .dataframe thead tr:only-child th {\n",
       "        text-align: right;\n",
       "    }\n",
       "\n",
       "    .dataframe thead th {\n",
       "        text-align: left;\n",
       "    }\n",
       "\n",
       "    .dataframe tbody tr th {\n",
       "        vertical-align: top;\n",
       "    }\n",
       "</style>\n",
       "<table border=\"1\" class=\"dataframe\">\n",
       "  <thead>\n",
       "    <tr style=\"text-align: right;\">\n",
       "      <th></th>\n",
       "      <th>Red</th>\n",
       "      <th>N</th>\n",
       "      <th>L</th>\n",
       "      <th>Dirigida</th>\n",
       "      <th>&lt;k&gt;</th>\n",
       "      <th>k máx</th>\n",
       "      <th>k mín</th>\n",
       "      <th>Densidad</th>\n",
       "      <th>Clust. &lt;Ci&gt;</th>\n",
       "      <th>Clust. global</th>\n",
       "      <th>Diametro</th>\n",
       "      <th>Diam. comp. gigante</th>\n",
       "    </tr>\n",
       "  </thead>\n",
       "  <tbody>\n",
       "    <tr>\n",
       "      <th>0</th>\n",
       "      <td>Y2H</td>\n",
       "      <td>2018</td>\n",
       "      <td>2930</td>\n",
       "      <td>False</td>\n",
       "      <td>2.903865</td>\n",
       "      <td>91</td>\n",
       "      <td>1</td>\n",
       "      <td>0.001440</td>\n",
       "      <td>0.046194</td>\n",
       "      <td>0.023614</td>\n",
       "      <td>inf</td>\n",
       "      <td>14</td>\n",
       "    </tr>\n",
       "    <tr>\n",
       "      <th>1</th>\n",
       "      <td>LIT</td>\n",
       "      <td>1536</td>\n",
       "      <td>2925</td>\n",
       "      <td>False</td>\n",
       "      <td>3.808594</td>\n",
       "      <td>40</td>\n",
       "      <td>1</td>\n",
       "      <td>0.002481</td>\n",
       "      <td>0.292492</td>\n",
       "      <td>0.346193</td>\n",
       "      <td>inf</td>\n",
       "      <td>19</td>\n",
       "    </tr>\n",
       "    <tr>\n",
       "      <th>2</th>\n",
       "      <td>APMS</td>\n",
       "      <td>1622</td>\n",
       "      <td>9070</td>\n",
       "      <td>False</td>\n",
       "      <td>11.183724</td>\n",
       "      <td>127</td>\n",
       "      <td>1</td>\n",
       "      <td>0.006899</td>\n",
       "      <td>0.554636</td>\n",
       "      <td>0.618590</td>\n",
       "      <td>inf</td>\n",
       "      <td>15</td>\n",
       "    </tr>\n",
       "  </tbody>\n",
       "</table>\n",
       "</div>"
      ],
      "text/plain": [
       "    Red     N     L  Dirigida        <k>  k máx  k mín  Densidad  Clust. <Ci>  \\\n",
       "0   Y2H  2018  2930     False   2.903865     91      1  0.001440     0.046194   \n",
       "1   LIT  1536  2925     False   3.808594     40      1  0.002481     0.292492   \n",
       "2  APMS  1622  9070     False  11.183724    127      1  0.006899     0.554636   \n",
       "\n",
       "   Clust. global  Diametro  Diam. comp. gigante  \n",
       "0       0.023614       inf                   14  \n",
       "1       0.346193       inf                   19  \n",
       "2       0.618590       inf                   15  "
      ]
     },
     "execution_count": 17,
     "metadata": {},
     "output_type": "execute_result"
    }
   ],
   "source": [
    "caract=pd.DataFrame({   \"Red\":[\"Y2H\",\"LIT\",\"APMS\"], \n",
    "                        \"N\":nodes,\n",
    "                        \"L\":edges,\n",
    "                        \"Dirigida\":esdirigida,\n",
    "                        \"<k>\":kmedio,\n",
    "                        \"k máx\":kmax,\n",
    "                        \"k mín\":kmin,\n",
    "                        \"Densidad\":densidad,\n",
    "                        \"Clust. <Ci>\":clust1,\n",
    "                        \"Clust. global\":clust2,\n",
    "                        \"Diametro\":[np.inf]*3,\n",
    "                        \"Diam. comp. gigante\":diam\n",
    "                    })\n",
    "\n",
    "caract=caract[['Red','N','L','Dirigida','<k>',\n",
    "               'k máx','k mín','Densidad','Clust. <Ci>',\n",
    "               'Clust. global','Diametro','Diam. comp. gigante']]\n",
    "\n",
    "caract"
   ]
  },
  {
   "cell_type": "code",
   "execution_count": 18,
   "metadata": {
    "collapsed": true
   },
   "outputs": [],
   "source": [
    "#%% Agrego algunos atributos relacionados a los componentes\n",
    "\n",
    "for red in redes:\n",
    "    red.graph[\"Componentes\"]=list(nx.connected_component_subgraphs(red))\n",
    "    compgigante=max(red.graph[\"Componentes\"],key=len)\n",
    "    red.graph[\"Componentes\"].remove(compgigante)\n",
    "    clust_comp=[]\n",
    "    trans_comp=[]\n",
    "    for comp in red.graph[\"Componentes\"]:\n",
    "        clust_comp.append(nx.average_clustering(comp))\n",
    "        trans_comp.append(nx.transitivity(comp))\n",
    "    red.graph[\"<Ci> de cada componente\"]=clust_comp\n",
    "    red.graph[\"Cglobal de cada componente\"]=trans_comp\n",
    "    red.graph[\"<Ci> CG\"]=nx.average_clustering(compgigante)\n",
    "    red.graph[\"Cglobal CG\"]=nx.transitivity(compgigante)"
   ]
  },
  {
   "cell_type": "code",
   "execution_count": null,
   "metadata": {
    "collapsed": true
   },
   "outputs": [],
   "source": []
  }
 ],
 "metadata": {
  "kernelspec": {
   "display_name": "Python 3",
   "language": "python",
   "name": "python3"
  },
  "language_info": {
   "codemirror_mode": {
    "name": "ipython",
    "version": 3
   },
   "file_extension": ".py",
   "mimetype": "text/x-python",
   "name": "python",
   "nbconvert_exporter": "python",
   "pygments_lexer": "ipython3",
   "version": "3.6.3"
  }
 },
 "nbformat": 4,
 "nbformat_minor": 2
}
